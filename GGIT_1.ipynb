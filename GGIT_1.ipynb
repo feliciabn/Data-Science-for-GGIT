{
  "nbformat": 4,
  "nbformat_minor": 0,
  "metadata": {
    "colab": {
      "name": "GGIT_1",
      "provenance": [],
      "collapsed_sections": []
    },
    "kernelspec": {
      "name": "python3",
      "display_name": "Python 3"
    },
    "language_info": {
      "name": "python"
    }
  },
  "cells": [
    {
      "cell_type": "code",
      "metadata": {
        "id": "6zgLqJO_BMhE"
      },
      "source": [
        "import matplotlib.pyplot as plt\n",
        "from csv import reader\n",
        "\n",
        "import urllib.request, csv\n",
        "path = \"https://girlsgoitpublic.z6.web.core.windows.net/Fortune_1000.csv\"\n",
        "response = urllib.request.urlopen(path)\n",
        "lines = [l.decode('utf-8') for l in response.readlines()]\n",
        "content = csv.reader(lines)\n",
        "data = list(content)"
      ],
      "execution_count": null,
      "outputs": []
    },
    {
      "cell_type": "code",
      "metadata": {
        "colab": {
          "base_uri": "https://localhost:8080/"
        },
        "id": "XMeFxJHoBg7k",
        "outputId": "963200c6-5650-467e-a9c2-e0e025376eee"
      },
      "source": [
        "def company(company, ceo_woman, index):\n",
        "  dictionary = {}\n",
        "  for row in data[1:]:\n",
        "    if row[11] == ceo_woman:\n",
        "      dictionary[row[0]] = str(row[index])\n",
        "  return dictionary\n",
        "\n",
        "w_company = company(company, 'yes', 8)\n",
        "w_company.keys()\n",
        "\n",
        "w_companies = company(company, 'yes', 6)\n",
        "print(len(w_companies))"
      ],
      "execution_count": null,
      "outputs": [
        {
          "output_type": "stream",
          "text": [
            "68\n"
          ],
          "name": "stdout"
        }
      ]
    },
    {
      "cell_type": "code",
      "metadata": {
        "id": "nNBl6hbhBi5O"
      },
      "source": [
        "west_coast = {'WA', 'CA', 'AK', 'OR', 'HI'}\n",
        "mountain = {'AZ', 'CO', 'UT', 'NV', 'NM', 'ID', 'MT', 'WY'}\n",
        "central = {'ND', 'SD', 'NE', 'KS', 'OK', 'TX', 'LA', 'AR', 'MO', 'IA', 'MN', 'WI', 'IL', 'IN', 'TN', 'MS', 'AL'}\n",
        "east_coast = {'FL', 'GA', 'SC', 'NC', 'VA', 'WV', 'OH', 'KY', 'MI', 'PA', 'NY', 'ME', 'NH', 'RI', 'CT', 'NJ', 'MA', 'VT', 'DE', 'MD' }\n"
      ],
      "execution_count": null,
      "outputs": []
    },
    {
      "cell_type": "code",
      "metadata": {
        "colab": {
          "base_uri": "https://localhost:8080/"
        },
        "id": "gVqOVmLQBp2c",
        "outputId": "31afce3f-ab76-4c8f-f415-9846bcdef616"
      },
      "source": [
        "west_coast_companies = []\n",
        "\n",
        "for i in w_company:\n",
        "  for k in west_coast:\n",
        "    if w_company[i] == k:\n",
        "      west_coast_companies.append(i)\n",
        "\n",
        "\n",
        "print(west_coast_companies)\n",
        "len(west_coast_companies)\n"
      ],
      "execution_count": null,
      "outputs": [
        {
          "output_type": "stream",
          "text": [
            "['Oracle', 'PG&E', 'Gap', 'Ross Stores', 'Advanced Micro Devices (AMD)', 'Clorox', 'Williams-Sonoma', 'Franklin Resources', 'Puget Energy', 'PriceSmart', 'Hawaiian Electric Industries', 'Arista Networks', 'Schnitzer Steel Industries', 'Portland General Electric']\n"
          ],
          "name": "stdout"
        },
        {
          "output_type": "execute_result",
          "data": {
            "text/plain": [
              "14"
            ]
          },
          "metadata": {
            "tags": []
          },
          "execution_count": 5
        }
      ]
    },
    {
      "cell_type": "code",
      "metadata": {
        "colab": {
          "base_uri": "https://localhost:8080/"
        },
        "id": "vJvvwhc-CwA4",
        "outputId": "f14dd8e4-ab0c-4c3b-ca6d-99e2c6fff23e"
      },
      "source": [
        "mountain_companies = []\n",
        "\n",
        "for i in w_company:\n",
        "  for k in mountain:\n",
        "    if w_company[i] == k:\n",
        "      mountain_companies.append(i)\n",
        "print(mountain_companies)\n",
        "print(len(mountain_companies))"
      ],
      "execution_count": null,
      "outputs": [
        {
          "output_type": "stream",
          "text": [
            "['Taylor Morrison Home', 'Summit Materials']\n",
            "2\n"
          ],
          "name": "stdout"
        }
      ]
    },
    {
      "cell_type": "code",
      "metadata": {
        "colab": {
          "base_uri": "https://localhost:8080/"
        },
        "id": "eGUfqQsBC3x-",
        "outputId": "aa5cc505-2b13-4ce4-a364-c9aa08816bb6"
      },
      "source": [
        "central_companies = []\n",
        "\n",
        "for i in w_company:\n",
        "  for s in central:\n",
        "    if w_company[i] == s:\n",
        "      central_companies.append(i)\n",
        "print(central_companies)\n",
        "print(len(central_companies))"
      ],
      "execution_count": null,
      "outputs": [
        {
          "output_type": "stream",
          "text": [
            "['Anthem', 'Best Buy', 'Occidental Petroleum', 'Kohl&#8217;s', 'CDW', 'Reinsurance Group of America', 'Land O&#8217;Lakes', 'Jones Financial (Edward Jones)', 'Yum China Holdings', 'Thrivent Financial for Lutherans', 'Graybar Electric', 'Ulta Beauty', 'Celanese', 'Commercial Metals', 'Brookdale Senior Living', 'Ventas', 'Stericycle', 'Acadia Healthcare', 'Cracker Barrel Old Country Store', 'Trinity Industries', 'ArcBest', 'Caleres', 'Renewable Energy Group', 'AMN Healthcare Services', 'Genesco']\n",
            "25\n"
          ],
          "name": "stdout"
        }
      ]
    },
    {
      "cell_type": "code",
      "metadata": {
        "id": "xt410fFCHufH"
      },
      "source": [
        "\n",
        "  "
      ],
      "execution_count": null,
      "outputs": []
    },
    {
      "cell_type": "code",
      "metadata": {
        "colab": {
          "base_uri": "https://localhost:8080/"
        },
        "id": "KHkMBPKDDLh8",
        "outputId": "70b340cf-9180-40f9-cdb6-b580f1afa5ca"
      },
      "source": [
        "east_coast_companies = []\n",
        "\n",
        "for i in w_company:\n",
        "  for k in east_coast:\n",
        "    if w_company[i] == k:\n",
        "      east_coast_companies.append(i)\n",
        "      \n",
        "\n",
        "print(east_coast_companies)\n",
        "print(len(east_coast_companies))"
      ],
      "execution_count": null,
      "outputs": [
        {
          "output_type": "stream",
          "text": [
            "['CVS Health', 'General Motors', 'Citigroup', 'UPS', 'General Dynamics', 'Progressive', 'Northrop Grumman', 'Duke Energy', 'Rite Aid', 'Synchrony Financial', 'Dick&#8217;s Sporting Goods', 'Coty', 'Hershey', 'CMS Energy', 'Science Applications International', 'Zoetis', 'Ascena Retail Group', 'Tapestry', 'Nasdaq', 'Penn Mutual Life Insurance', 'Abercrombie & Fitch', 'CIT Group', 'Herman Miller', 'J.Crew Group', 'Curtiss-Wright', 'Revlon', \"Chico's FAS\"]\n",
            "27\n"
          ],
          "name": "stdout"
        }
      ]
    },
    {
      "cell_type": "code",
      "metadata": {
        "colab": {
          "base_uri": "https://localhost:8080/"
        },
        "id": "R4UEp1_HK91z",
        "outputId": "70f90c6a-5d3b-4fa6-ab94-9c181de5a31e"
      },
      "source": [
        "s = []\n",
        "for i in data:\n",
        "  s.append(i[6])\n",
        "del(s[0])\n",
        "print(s)\n",
        "  \n",
        "print(len(s)) \n"
      ],
      "execution_count": null,
      "outputs": [
        {
          "output_type": "stream",
          "text": [
            "['Retailing', 'Retailing', 'Energy', 'Technology', 'Health Care', 'Financials', 'Health Care', 'Health Care', 'Telecommunications', 'Health Care', 'Technology', 'Motor Vehicles & Parts', 'Health Care', 'Retailing', 'Energy', 'Health Care', 'Financials', 'Motor Vehicles & Parts', 'Food & Drug Stores', 'Telecommunications', 'Technology', 'Energy', 'Food & Drug Stores', 'Financials', 'Financials', 'Retailing', 'Energy', 'Telecommunications', 'Health Care', 'Financials', 'Financials', 'Energy', 'Industrials', 'Technology', 'Health Care', 'Financials', 'Retailing', 'Technology', 'Aerospace & Defense', 'Aerospace & Defense', 'Financials', 'Health Care', 'Transportation', 'Retailing', 'Technology', 'Technology', 'Transportation', 'Financials', 'Media', 'Household Products', 'Food, Beverages & Tobacco', 'Health Care', 'Financials', 'Food, Beverages & Tobacco', 'Food & Drug Stores', 'Wholesalers', 'Aerospace & Defense', 'Technology', 'Energy', 'Financials', 'Financials', 'Industrials', 'Technology', 'Health Care', 'Health Care', 'Financials', 'Financials', 'Transportation', 'Health Care', 'Transportation', 'Telecommunications', 'Financials', 'Financials', 'Financials', 'Retailing', 'Transportation', 'Financials', 'Chemicals', 'Food, Beverages & Tobacco', 'Retailing', 'Financials', 'Technology', 'Aerospace & Defense', 'Industrials', 'Apparel', 'Financials', 'Food & Drug Stores', 'Food, Beverages & Tobacco', 'Financials', 'Wholesalers', 'Energy', 'Industrials', 'Energy', 'Financials', 'Energy', 'Aerospace & Defense', 'Financials', 'Energy', 'Health Care', 'Financials', 'Energy', 'Financials', 'Chemicals', 'Health Care', 'Food, Beverages & Tobacco', 'Financials', 'Food, Beverages & Tobacco', 'Aerospace & Defense', 'Technology', 'Wholesalers', 'Media', 'Retailing', 'Financials', 'Hotels, Restaurants & Leisure', 'Health Care', 'Wholesalers', 'Food, Beverages & Tobacco', 'Industrials', 'Technology', 'Retailing', 'Technology', 'Food, Beverages & Tobacco', 'Energy', 'Motor Vehicles & Parts', 'Energy', 'Technology', 'Energy', 'Financials', 'Energy', 'Wholesalers', 'Retailing', 'Industrials', 'Wholesalers', 'Technology', 'Health Care', 'Retailing', 'Business Services', 'Technology', 'Materials', 'Health Care', 'Transportation', 'Energy', 'Telecommunications', 'Materials', 'Health Care', 'Financials', 'Engineering & Construction', 'Energy', 'Transportation', 'Food & Drug Stores', 'Financials', 'Chemicals', 'Energy', 'Retailing', 'Technology', 'Hotels, Restaurants & Leisure', 'Hotels, Restaurants & Leisure', 'Business Services', 'Financials', 'Financials', 'Health Care', 'Industrials', 'Engineering & Construction', 'Media', 'Retailing', 'Motor Vehicles & Parts', 'Food, Beverages & Tobacco', 'Wholesalers', 'Wholesalers', 'Financials', 'Wholesalers', 'Energy', 'Retailing', 'Health Care', 'Household Products', 'Industrials', 'Materials', 'Technology', 'Financials', 'Chemicals', 'Engineering & Construction', 'Business Services', 'Engineering & Construction', 'Energy', 'Motor Vehicles & Parts', 'Energy', 'Health Care', 'Financials', 'Energy', 'Technology', 'Business Services', 'Food, Beverages & Tobacco', 'Health Care', 'Technology', 'Financials', 'Transportation', 'Energy', 'Technology', 'Retailing', 'Business Services', 'Financials', 'Retailing', 'Household Products', 'Energy', 'Retailing', 'Engineering & Construction', 'Business Services', 'Transportation', 'Chemicals', 'Technology', 'Business Services', 'Financials', 'Chemicals', 'Health Care', 'Household Products', 'Motor Vehicles & Parts', 'Financials', 'Technology', 'Financials', 'Household Products', 'Energy', 'Technology', 'Health Care', 'Industrials', 'Financials', 'Aerospace & Defense', 'Business Services', 'Technology', 'Industrials', 'Health Care', 'Financials', 'Food, Beverages & Tobacco', 'Apparel', 'Food, Beverages & Tobacco', 'Hotels, Restaurants & Leisure', 'Aerospace & Defense', 'Food, Beverages & Tobacco', 'Financials', 'Retailing', 'Wholesalers', 'Health Care', 'Energy', 'Retailing', 'Financials', 'Financials', 'Wholesalers', 'Materials', 'Retailing', 'Hotels, Restaurants & Leisure', 'Aerospace & Defense', 'Telecommunications', 'Retailing', 'Energy', 'Financials', 'Financials', 'Energy', 'Wholesalers', 'Energy', 'Energy', 'Energy', 'Engineering & Construction', 'Retailing', 'Retailing', 'Retailing', 'Retailing', 'Financials', 'Transportation', 'Retailing', 'Financials', 'Energy', 'Financials', 'Materials', 'Financials', 'Health Care', 'Media', 'Energy', 'Industrials', 'Wholesalers', 'Materials', 'Media', 'Health Care', 'Health Care', 'Transportation', 'Industrials', 'Technology', 'Retailing', 'Media', 'Food, Beverages & Tobacco', 'Technology', 'Health Care', 'Materials', 'Technology', 'Energy', 'Energy', 'Technology', 'Health Care', 'Retailing', 'Food, Beverages & Tobacco', 'Materials', 'Financials', 'Retailing', 'Materials', 'Business Services', 'Health Care', 'Business Services', 'Media', 'Engineering & Construction', 'Business Services', 'Engineering & Construction', 'Energy', 'Business Services', 'Motor Vehicles & Parts', 'Energy', 'Retailing', 'Financials', 'Household Products', 'Energy', 'Media', 'Energy', 'Financials', 'Household Products', 'Apparel', 'Food, Beverages & Tobacco', 'Energy', 'Financials', 'Retailing', 'Telecommunications', 'Energy', 'Energy', 'Retailing', 'Technology', 'Health Care', 'Financials', 'Food, Beverages & Tobacco', 'Financials', 'Financials', 'Food, Beverages & Tobacco', 'Hotels, Restaurants & Leisure', 'Wholesalers', 'Business Services', 'Energy', 'Energy', 'Chemicals', 'Engineering & Construction', 'Retailing', 'Transportation', 'Technology', 'Retailing', 'Financials', 'Industrials', 'Financials', 'Financials', 'Financials', 'Transportation', 'Chemicals', 'Chemicals', 'Aerospace & Defense', 'Materials', 'Wholesalers', 'Transportation', 'Hotels, Restaurants & Leisure', 'Retailing', 'Hotels, Restaurants & Leisure', 'Financials', 'Energy', 'Household Products', 'Motor Vehicles & Parts', 'Financials', 'Motor Vehicles & Parts', 'Wholesalers', 'Energy', 'Hotels, Restaurants & Leisure', 'Energy', 'Energy', 'Financials', 'Financials', 'Industrials', 'Retailing', 'Wholesalers', 'Retailing', 'Technology', 'Chemicals', 'Financials', 'Household Products', 'Technology', 'Technology', 'Energy', 'Industrials', 'Transportation', 'Food, Beverages & Tobacco', 'Chemicals', 'Food, Beverages & Tobacco', 'Telecommunications', 'Transportation', 'Financials', 'Financials', 'Retailing', 'Food, Beverages & Tobacco', 'Health Care', 'Financials', 'Financials', 'Financials', 'Technology', 'Motor Vehicles & Parts', 'Health Care', 'Aerospace & Defense', 'Food, Beverages & Tobacco', 'Energy', 'Technology', 'Health Care', 'Financials', 'Wholesalers', 'Energy', 'Financials', 'Wholesalers', 'Energy', 'Engineering & Construction', 'Retailing', 'Energy', 'Financials', 'Food, Beverages & Tobacco', 'Industrials', 'Energy', 'Retailing', 'Materials', 'Engineering & Construction', 'Financials', 'Retailing', 'Financials', 'Engineering & Construction', 'Materials', 'Health Care', 'Industrials', 'Wholesalers', 'Materials', 'Apparel', 'Materials', 'Financials', 'Technology', 'Financials', 'Business Services', 'Transportation', 'Energy', 'Food, Beverages & Tobacco', 'Technology', 'Financials', 'Financials', 'Technology', 'Energy', 'Technology', 'Business Services', 'Industrials', 'Materials', 'Hotels, Restaurants & Leisure', 'Financials', 'Business Services', 'Materials', 'Financials', 'Financials', 'Motor Vehicles & Parts', 'Energy', 'Business Services', 'Media', 'Retailing', 'Energy', 'Technology', 'Materials', 'Retailing', 'Apparel', 'Chemicals', 'Media', 'Health Care', 'Retailing', 'Household Products', 'Food, Beverages & Tobacco', 'Financials', 'Materials', 'Technology', 'Wholesalers', 'Retailing', 'Chemicals', 'Business Services', 'Energy', 'Technology', 'Apparel', 'Financials', 'Technology', 'Energy', 'Retailing', 'Financials', 'Materials', 'Retailing', 'Financials', 'Household Products', 'Apparel', 'Financials', 'Financials', 'Health Care', 'Food, Beverages & Tobacco', 'Financials', 'Engineering & Construction', 'Food & Drug Stores', 'Financials', 'Financials', 'Hotels, Restaurants & Leisure', 'Hotels, Restaurants & Leisure', 'Health Care', 'Chemicals', 'Financials', 'Financials', 'Chemicals', 'Technology', 'Aerospace & Defense', 'Financials', 'Health Care', 'Energy', 'Materials', 'Technology', 'Transportation', 'Financials', 'Business Services', 'Technology', 'Food, Beverages & Tobacco', 'Energy', 'Wholesalers', 'Retailing', 'Hotels, Restaurants & Leisure', 'Business Services', 'Apparel', 'Industrials', 'Apparel', 'Materials', 'Energy', 'Energy', 'Financials', 'Telecommunications', 'Technology', 'Technology', 'Energy', 'Chemicals', 'Business Services', 'Financials', 'Telecommunications', 'Retailing', 'Financials', 'Hotels, Restaurants & Leisure', 'Health Care', 'Materials', 'Technology', 'Media', 'Materials', 'Food, Beverages & Tobacco', 'Business Services', 'Financials', 'Retailing', 'Materials', 'Transportation', 'Financials', 'Retailing', 'Transportation', 'Business Services', 'Food, Beverages & Tobacco', 'Materials', 'Materials', 'Materials', 'Wholesalers', 'Engineering & Construction', 'Technology', 'Household Products', 'Financials', 'Transportation', 'Materials', 'Technology', 'Household Products', 'Business Services', 'Industrials', 'Health Care', 'Chemicals', 'Wholesalers', 'Technology', 'Energy', 'Energy', 'Health Care', 'Materials', 'Energy', 'Industrials', 'Chemicals', 'Technology', 'Health Care', 'Transportation', 'Engineering & Construction', 'Financials', 'Household Products', 'Materials', 'Materials', 'Industrials', 'Health Care', 'Media', 'Business Services', 'Engineering & Construction', 'Technology', 'Energy', 'Industrials', 'Retailing', 'Energy', 'Materials', 'Technology', 'Energy', 'Motor Vehicles & Parts', 'Business Services', 'Household Products', 'Hotels, Restaurants & Leisure', 'Health Care', 'Industrials', 'Business Services', 'Retailing', 'Technology', 'Materials', 'Business Services', 'Financials', 'Technology', 'Media', 'Food & Drug Stores', 'Food, Beverages & Tobacco', 'Energy', 'Health Care', 'Financials', 'Hotels, Restaurants & Leisure', 'Household Products', 'Media', 'Food, Beverages & Tobacco', 'Financials', 'Materials', 'Transportation', 'Transportation', 'Financials', 'Industrials', 'Health Care', 'Technology', 'Hotels, Restaurants & Leisure', 'Health Care', 'Health Care', 'Financials', 'Retailing', 'Technology', 'Financials', 'Energy', 'Aerospace & Defense', 'Retailing', 'Industrials', 'Retailing', 'Business Services', 'Retailing', 'Wholesalers', 'Financials', 'Financials', 'Business Services', 'Transportation', 'Financials', 'Industrials', 'Industrials', 'Business Services', 'Transportation', 'Materials', 'Food, Beverages & Tobacco', 'Business Services', 'Financials', 'Media', 'Business Services', 'Financials', 'Industrials', 'Transportation', 'Engineering & Construction', 'Energy', 'Energy', 'Technology', 'Wholesalers', 'Retailing', 'Hotels, Restaurants & Leisure', 'Technology', 'Media', 'Energy', 'Chemicals', 'Technology', 'Retailing', 'Food & Drug Stores', 'Technology', 'Financials', 'Apparel', 'Financials', 'Health Care', 'Business Services', 'Wholesalers', 'Chemicals', 'Financials', 'Energy', 'Technology', 'Retailing', 'Technology', 'Wholesalers', 'Energy', 'Financials', 'Technology', 'Technology', 'Energy', 'Household Products', 'Food, Beverages & Tobacco', 'Motor Vehicles & Parts', 'Business Services', 'Energy', 'Hotels, Restaurants & Leisure', 'Engineering & Construction', 'Financials', 'Technology', 'Materials', 'Health Care', 'Chemicals', 'Health Care', 'Aerospace & Defense', 'Food, Beverages & Tobacco', 'Wholesalers', 'Technology', 'Technology', 'Chemicals', 'Engineering & Construction', 'Chemicals', 'Financials', 'Hotels, Restaurants & Leisure', 'Media', 'Food, Beverages & Tobacco', 'Business Services', 'Financials', 'Engineering & Construction', 'Industrials', 'Industrials', 'Media', 'Technology', 'Technology', 'Motor Vehicles & Parts', 'Financials', 'Industrials', 'Business Services', 'Health Care', 'Retailing', 'Hotels, Restaurants & Leisure', 'Financials', 'Wholesalers', 'Energy', 'Technology', 'Technology', 'Aerospace & Defense', 'Apparel', 'Chemicals', 'Financials', 'Financials', 'Industrials', 'Energy', 'Wholesalers', 'Motor Vehicles & Parts', 'Health Care', 'Engineering & Construction', 'Engineering & Construction', 'Household Products', 'Financials', 'Technology', 'Engineering & Construction', 'Hotels, Restaurants & Leisure', 'Health Care', 'Technology', 'Energy', 'Media', 'Technology', 'Energy', 'Apparel', 'Media', 'Energy', 'Transportation', 'Technology', 'Technology', 'Technology', 'Transportation', 'Financials', 'Industrials', 'Retailing', 'Industrials', 'Transportation', 'Technology', 'Transportation', 'Financials', 'Energy', 'Industrials', 'Energy', 'Technology', 'Motor Vehicles & Parts', 'Business Services', 'Materials', 'Retailing', 'Financials', 'Health Care', 'Aerospace & Defense', 'Financials', 'Energy', 'Aerospace & Defense', 'Technology', 'Chemicals', 'Technology', 'Technology', 'Technology', 'Technology', 'Energy', 'Transportation', 'Materials', 'Financials', 'Financials', 'Industrials', 'Industrials', 'Financials', 'Transportation', 'Transportation', 'Financials', 'Energy', 'Wholesalers', 'Financials', 'Industrials', 'Energy', 'Financials', 'Materials', 'Aerospace & Defense', 'Hotels, Restaurants & Leisure', 'Motor Vehicles & Parts', 'Business Services', 'Technology', 'Transportation', 'Household Products', 'Energy', 'Food, Beverages & Tobacco', 'Media', 'Financials', 'Motor Vehicles & Parts', 'Financials', 'Technology', 'Business Services', 'Retailing', 'Retailing', 'Media', 'Technology', 'Business Services', 'Health Care', 'Business Services', 'Retailing', 'Energy', 'Wholesalers', 'Energy', 'Engineering & Construction', 'Health Care', 'Engineering & Construction', 'Business Services', 'Health Care', 'Health Care', 'Energy', 'Financials', 'Financials', 'Telecommunications', 'Household Products', 'Food & Drug Stores', 'Retailing', 'Engineering & Construction', 'Hotels, Restaurants & Leisure', 'Health Care', 'Industrials', 'Engineering & Construction', 'Financials', 'Industrials', 'Industrials', 'Industrials', 'Hotels, Restaurants & Leisure', 'Energy', 'Business Services', 'Energy', 'Transportation', 'Industrials', 'Materials', 'Industrials', 'Household Products', 'Household Products', 'Technology', 'Health Care', 'Health Care', 'Technology', 'Financials', 'Business Services', 'Motor Vehicles & Parts', 'Financials', 'Chemicals', 'Financials', 'Household Products', 'Materials', 'Financials', 'Industrials', 'Motor Vehicles & Parts', 'Business Services', 'Energy', 'Technology', 'Wholesalers', 'Aerospace & Defense', 'Business Services', 'Retailing', 'Financials', 'Materials', 'Technology', 'Technology', 'Financials', 'Motor Vehicles & Parts', 'Financials', 'Technology', 'Financials', 'Technology', 'Health Care', 'Materials', 'Media', 'Technology', 'Energy', 'Technology', 'Energy', 'Energy', 'Health Care', 'Financials', 'Apparel', 'Hotels, Restaurants & Leisure', 'Technology', 'Household Products', 'Technology', 'Financials', 'Energy', 'Food, Beverages & Tobacco', 'Financials', 'Technology', 'Materials', 'Health Care', 'Technology', 'Financials', 'Apparel', 'Motor Vehicles & Parts', 'Materials', 'Technology', 'Industrials', 'Transportation', 'Retailing', 'Industrials', 'Chemicals', 'Transportation', 'Industrials', 'Health Care', 'Technology', 'Wholesalers', 'Aerospace & Defense', 'Apparel', 'Household Products', 'Financials', 'Materials', 'Energy', 'Media', 'Financials', 'Technology', 'Engineering & Construction', 'Health Care', 'Business Services', 'Technology', 'Energy', 'Energy', 'Engineering & Construction', 'Technology', 'Food & Drug Stores', 'Energy', 'Business Services', 'Household Products', 'Aerospace & Defense', 'Hotels, Restaurants & Leisure', 'Financials', 'Financials', 'Energy', 'Energy', 'Retailing', 'Retailing', 'Retailing', 'Retailing', 'Aerospace & Defense', 'Financials', 'Apparel', 'Retailing', 'Engineering & Construction', 'Business Services', 'Business Services', 'Financials', 'Media', 'Financials', 'Business Services', 'Financials', 'Industrials', 'Energy']\n",
            "1000\n"
          ],
          "name": "stdout"
        }
      ]
    },
    {
      "cell_type": "code",
      "metadata": {
        "id": "xk4HCbE9K23B"
      },
      "source": [
        ""
      ],
      "execution_count": null,
      "outputs": []
    },
    {
      "cell_type": "code",
      "metadata": {
        "id": "q34J1T6EIASU"
      },
      "source": [
        "def sectors(region_of_companies):\n",
        "  dictionary_sectors = dict.fromkeys(s, 0)\n",
        "  \n",
        "  \n",
        "  for i in region_of_companies:\n",
        "    for k in w_companies:\n",
        "      if i == k:\n",
        "        for m in dictionary_sectors:\n",
        "          if m==w_companies[k]:\n",
        "            dictionary_sectors[m] += 1\n",
        "            break\n",
        "  return dictionary_sectors\n"
      ],
      "execution_count": null,
      "outputs": []
    },
    {
      "cell_type": "code",
      "metadata": {
        "colab": {
          "base_uri": "https://localhost:8080/"
        },
        "id": "S5q7mFr4QSkl",
        "outputId": "75c00bef-0fad-4b0e-a03e-bfa2d7e4e030"
      },
      "source": [
        "east = sectors(east_coast_companies)\n",
        "east"
      ],
      "execution_count": null,
      "outputs": [
        {
          "output_type": "execute_result",
          "data": {
            "text/plain": [
              "{'Aerospace & Defense': 2,\n",
              " 'Apparel': 1,\n",
              " 'Business Services': 0,\n",
              " 'Chemicals': 0,\n",
              " 'Energy': 2,\n",
              " 'Engineering & Construction': 0,\n",
              " 'Financials': 6,\n",
              " 'Food & Drug Stores': 1,\n",
              " 'Food, Beverages & Tobacco': 1,\n",
              " 'Health Care': 2,\n",
              " 'Hotels, Restaurants & Leisure': 0,\n",
              " 'Household Products': 3,\n",
              " 'Industrials': 1,\n",
              " 'Materials': 0,\n",
              " 'Media': 0,\n",
              " 'Motor Vehicles & Parts': 1,\n",
              " 'Retailing': 5,\n",
              " 'Technology': 1,\n",
              " 'Telecommunications': 0,\n",
              " 'Transportation': 1,\n",
              " 'Wholesalers': 0}"
            ]
          },
          "metadata": {
            "tags": []
          },
          "execution_count": 11
        }
      ]
    },
    {
      "cell_type": "markdown",
      "metadata": {
        "id": "nGqAvhITK5uU"
      },
      "source": [
        ""
      ]
    },
    {
      "cell_type": "code",
      "metadata": {
        "colab": {
          "base_uri": "https://localhost:8080/"
        },
        "id": "FWbi8qDwKpc6",
        "outputId": "a7b768fc-11db-4a3c-d51d-21743b9ace2a"
      },
      "source": [
        "sectors(west_coast_companies)\n"
      ],
      "execution_count": null,
      "outputs": [
        {
          "output_type": "execute_result",
          "data": {
            "text/plain": [
              "{'Aerospace & Defense': 0,\n",
              " 'Apparel': 0,\n",
              " 'Business Services': 0,\n",
              " 'Chemicals': 0,\n",
              " 'Energy': 4,\n",
              " 'Engineering & Construction': 0,\n",
              " 'Financials': 1,\n",
              " 'Food & Drug Stores': 0,\n",
              " 'Food, Beverages & Tobacco': 0,\n",
              " 'Health Care': 0,\n",
              " 'Hotels, Restaurants & Leisure': 0,\n",
              " 'Household Products': 1,\n",
              " 'Industrials': 0,\n",
              " 'Materials': 1,\n",
              " 'Media': 0,\n",
              " 'Motor Vehicles & Parts': 0,\n",
              " 'Retailing': 4,\n",
              " 'Technology': 3,\n",
              " 'Telecommunications': 0,\n",
              " 'Transportation': 0,\n",
              " 'Wholesalers': 0}"
            ]
          },
          "metadata": {
            "tags": []
          },
          "execution_count": 12
        }
      ]
    },
    {
      "cell_type": "code",
      "metadata": {
        "id": "TBgjeINsLFAg"
      },
      "source": [
        "central_sector_company = sectors(central_companies)\n",
        "mountain_sector_company = sectors(mountain_companies)\n",
        "west_cost_sector_company = sectors(west_coast_companies)"
      ],
      "execution_count": null,
      "outputs": []
    },
    {
      "cell_type": "code",
      "metadata": {
        "colab": {
          "base_uri": "https://localhost:8080/"
        },
        "id": "VvrItgFCO23u",
        "outputId": "2bc56f29-30e0-4371-b754-6152ada99f53"
      },
      "source": [
        "print(len(central_sector_company))"
      ],
      "execution_count": null,
      "outputs": [
        {
          "output_type": "stream",
          "text": [
            "21\n"
          ],
          "name": "stdout"
        }
      ]
    },
    {
      "cell_type": "code",
      "metadata": {
        "colab": {
          "base_uri": "https://localhost:8080/"
        },
        "id": "aqYCKWWgLTru",
        "outputId": "6c2e43b7-56d2-4775-9078-8f4ac5f9792a"
      },
      "source": [
        "all = {}\n",
        "for i in range(21):\n",
        "  for a in west_cost_sector_company:\n",
        "    all.setdefault(a, [])\n",
        "    all[a].append(west_cost_sector_company[a])\n",
        "    all[a].append(mountain_sector_company[a])\n",
        "    all[a].append(central_sector_company[a])\n",
        "    all[a].append(east[a])\n",
        "  break\n",
        "\n",
        "print(all)"
      ],
      "execution_count": null,
      "outputs": [
        {
          "output_type": "stream",
          "text": [
            "{'Retailing': [4, 0, 5, 5], 'Energy': [4, 0, 2, 2], 'Technology': [3, 0, 1, 1], 'Health Care': [0, 0, 4, 2], 'Financials': [1, 0, 4, 6], 'Telecommunications': [0, 0, 0, 0], 'Motor Vehicles & Parts': [0, 0, 0, 1], 'Food & Drug Stores': [0, 0, 0, 1], 'Industrials': [0, 0, 0, 1], 'Aerospace & Defense': [0, 0, 0, 2], 'Transportation': [0, 0, 2, 1], 'Media': [0, 0, 0, 0], 'Household Products': [1, 0, 0, 3], 'Food, Beverages & Tobacco': [0, 0, 1, 1], 'Wholesalers': [0, 0, 1, 0], 'Chemicals': [0, 0, 1, 0], 'Apparel': [0, 0, 0, 1], 'Hotels, Restaurants & Leisure': [0, 0, 2, 0], 'Business Services': [0, 0, 1, 0], 'Materials': [1, 1, 1, 0], 'Engineering & Construction': [0, 1, 0, 0]}\n"
          ],
          "name": "stdout"
        }
      ]
    },
    {
      "cell_type": "code",
      "metadata": {
        "colab": {
          "base_uri": "https://localhost:8080/",
          "height": 628
        },
        "id": "guzrjpY4v2Yu",
        "outputId": "91de83eb-7a4c-4ff8-9a45-5bee2a0b85e2"
      },
      "source": [
        "x = ['West Coast', 'Mountain', 'Central', 'East Coast']\n",
        "width = 0.25\n",
        "fig, ax = plt.subplots(figsize=(18, 10))\n",
        "retailing = [4, 0, 5, 5]\n",
        "energy = [4, 0, 2, 2]\n",
        "technology = [3, 0, 1, 1]\n",
        "health_care = [0, 0, 4, 2]\n",
        "financials = [1, 0, 4, 6]\n",
        "motor_vehicles =[0, 0, 0, 1]\n",
        "food_drug_stores =[0, 0, 0, 1]\n",
        "industrials =[0, 0, 0, 1]\n",
        "aerospace_defence = [0, 0, 0, 2]\n",
        "transportation = [0, 0, 2, 1]\n",
        "household_products = [1, 0, 0, 3]\n",
        "food_beverages_tobacco =[0, 0, 1, 1]\n",
        "wholesalers =[0, 0, 1, 0]\n",
        "chemicals = [0, 0,1, 0]\n",
        "apparel = [0, 0, 0, 1]\n",
        "hotels_restaurants = [ 0, 0, 2, 0]\n",
        "business_services = [0, 0, 1, 0]\n",
        "materials = [1, 1, 1, 0]\n",
        "engineering=[0, 1, 0, 0]\n",
        "\n",
        "colors = [\"#074263\", \"#0B5394\", \"#3D85C6\", \"#6D9EEB\", \"#A4C2F4\", \"#CFE2F3\", \"#5B0F00\", \"#85200C\", \"#A61C00\", \"#CC4125\", \"#DD7E6B\", \"#E6B8AF\", \"#F8CBAD\", \"#F4CCCC\", \"#274E13\", \"#38761D\", \"#E06666\", \"#CC0000\", \"#20124D\"]\n",
        "\n",
        "p1 = ax.bar(x, aerospace_defence, width, label='Aerospace & Defense', color=colors )\n",
        "ax.bar(x, apparel, width, bottom = aerospace_defence, label='Apparel', color=colors[1] )\n",
        "ax.bar(x, business_services, width, bottom =apparel.append(aerospace_defence) , label='Business Services', color = colors[2] )\n",
        "ax.bar(x, chemicals, width, bottom=[x + y+z for x, y, z in zip(aerospace_defence, apparel, business_services)], label='Chemicals', color=colors[3] )\n",
        "ax.bar(x, energy, width, bottom=[a+b+c+d for a, b, c, d in zip(aerospace_defence, apparel, business_services, chemicals)], label='Energy', color=colors )\n",
        "ax.bar(x, engineering, width, bottom=[a+b+c+d+e for a, b, c, d, e in zip(aerospace_defence, apparel, business_services, chemicals, energy)], label='Engineering & Construction', color=colors[4])\n",
        "ax.bar(x, financials, width, bottom=[a+b+c+d+e+f for a, b, c, d, e, f in zip(aerospace_defence, apparel, business_services, chemicals, energy, engineering)] , label='Financials', color=colors[5] )\n",
        "ax.bar(x, food_drug_stores, width, bottom=[a+b+c+d+e+f+g for a, b, c, d, e, f, g in zip(aerospace_defence, apparel, business_services, chemicals, energy, engineering, financials)] , label='Food & Drug Stores', color=colors[6] )\n",
        "ax.bar(x, food_beverages_tobacco, width, bottom=[a+b+c+d+e+f+g+h for a, b, c, d, e, f, g, h in zip(aerospace_defence, apparel, business_services, chemicals, energy, engineering, financials, food_drug_stores)], label='Food, Beverages & Tobacco', color=colors[7] )\n",
        "ax.bar(x, health_care, width, bottom=[a+b+c+d+e+f+g+h+i for a, b, c, d, e, f, g, h, i in zip(aerospace_defence, apparel, business_services, chemicals, energy, engineering, financials, food_drug_stores, food_beverages_tobacco)] , label='Health Care', color=colors[8] )\n",
        "ax.bar(x, hotels_restaurants, width, bottom=[a+b+c+d+e+f+g+h+i+j for a, b, c, d, e, f, g, h, i, j in zip(aerospace_defence, apparel, business_services, chemicals, energy, engineering, financials, food_drug_stores, food_beverages_tobacco, health_care)] , label='Hotels, Restaurants & Leisure', color=colors[9])\n",
        "ax.bar(x, household_products, width, bottom=[a+b+c+d+e+f+g+h+i+j+k for a, b, c, d, e, f, g, h, i, j, k in zip(aerospace_defence, apparel, business_services, chemicals, energy, engineering, financials, food_drug_stores, food_beverages_tobacco, health_care, hotels_restaurants)]  , label='Household Products', color=colors[10])\n",
        "ax.bar(x, industrials, width, bottom=[a+b+c+d+e+f+g+h+i+j+k+l for a, b, c, d, e, f, g, h, i, j, k, l in zip(aerospace_defence, apparel, business_services, chemicals, energy, engineering, financials, food_drug_stores, food_beverages_tobacco, health_care, hotels_restaurants, household_products)] , label='Industrials', color=colors[11])\n",
        "ax.bar(x, materials, width, bottom=[a+b+c+d+e+f+g+h+i+j+k+l for a, b, c, d, e, f, g, h, i, j, k, l, m in zip(aerospace_defence, apparel, business_services, chemicals, energy, engineering, financials, food_drug_stores, food_beverages_tobacco, health_care, hotels_restaurants, household_products, industrials)] , label='Materials', color=colors[12] )\n",
        "ax.bar(x, motor_vehicles, width, bottom=[a+b+c+d+e+f+g+h+i+j+k+l+m for a, b, c, d, e, f, g, h, i, j, k, l, m, n in zip(aerospace_defence, apparel, business_services, chemicals, energy, engineering, financials, food_drug_stores, food_beverages_tobacco, health_care, hotels_restaurants, household_products, industrials, materials)] , label='Motor Vehicles & Parts', color=colors[13] )\n",
        "ax.bar(x, retailing, width, bottom=[a+b+c+d+e+f+g+h+i+j+k+l+m+n+o for a, b, c, d, e, f, g, h, i, j, k, l, m, n, o in zip(aerospace_defence, apparel, business_services, chemicals, energy, engineering, financials, food_drug_stores, food_beverages_tobacco, health_care, hotels_restaurants, household_products, industrials, materials, motor_vehicles)] , label='Retailing', color=colors[14])\n",
        "ax.bar(x, technology, width, bottom=[a+b+c+d+e+f+g+h+i+j+k+l+m+n+o+p for a, b, c, d, e, f, g, h, i, j, k, l, m, n, o, p in zip(aerospace_defence, apparel, business_services, chemicals, energy, engineering, financials, food_drug_stores, food_beverages_tobacco, health_care, hotels_restaurants, household_products, industrials, materials, motor_vehicles, retailing)] , label='Technology', color=colors[15] )\n",
        "ax.bar(x, transportation, width, bottom=[a+b+c+d+e+f+g+h+i+j+k+l+m+n+o+p+q for a, b, c, d, e, f, g, h, i, j, k, l, m, n, o, p, q in zip(aerospace_defence, apparel, business_services, chemicals, energy, engineering, financials, food_drug_stores, food_beverages_tobacco, health_care, hotels_restaurants, household_products, industrials, materials, motor_vehicles, retailing, technology)] , label='Transportation', color=colors[16])\n",
        "ax.bar(x, wholesalers, width, bottom=[a+b+c+d+e+f+g+h+i+j+k+l+m+n+o+p+q+r for a, b, c, d, e, f, g, h, i, j, k, l, m, n, o, p, q, r in zip(aerospace_defence, apparel, business_services, chemicals, energy, engineering, financials, food_drug_stores, food_beverages_tobacco, health_care, hotels_restaurants, household_products, industrials, materials, motor_vehicles, retailing, technology, transportation)] , label='Wholesalers', color=colors[17])\n",
        "\n",
        "import matplotlib\n",
        "ax.set_ylabel('Number of Companies')\n",
        "ax.set_title('Companies run by Female CEOs by Region and Sector')\n",
        "matplotlib.rcParams.update({'font.size': 10})\n",
        "plt.legend()\n",
        "\n",
        "\n",
        "plt.show()"
      ],
      "execution_count": null,
      "outputs": [
        {
          "output_type": "display_data",
          "data": {
            "image/png": "[encoded data removed]",
            "text/plain": [
              "<Figure size 1296x720 with 1 Axes>"
            ]
          },
          "metadata": {
            "tags": [],
            "needs_background": "light"
          }
        }
      ]
    },
    {
      "cell_type": "code",
      "metadata": {
        "id": "uL8LqWzyYaLO"
      },
      "source": [
        ""
      ],
      "execution_count": null,
      "outputs": []
    },
    {
      "cell_type": "markdown",
      "metadata": {
        "id": "OOc92fgzYbNX"
      },
      "source": [
        "2nd Diagram"
      ]
    },
    {
      "cell_type": "code",
      "metadata": {
        "id": "xfImJTc1YcVj"
      },
      "source": [
        ""
      ],
      "execution_count": null,
      "outputs": []
    }
  ]
}